{
 "cells": [
  {
   "cell_type": "code",
   "execution_count": 1,
   "metadata": {
    "scrolled": true
   },
   "outputs": [
    {
     "name": "stderr",
     "output_type": "stream",
     "text": [
      "C:\\Users\\kin24\\AppData\\Local\\conda\\conda\\envs\\name_class\\lib\\site-packages\\tensorflow\\python\\framework\\dtypes.py:516: FutureWarning: Passing (type, 1) or '1type' as a synonym of type is deprecated; in a future version of numpy, it will be understood as (type, (1,)) / '(1,)type'.\n",
      "  _np_qint8 = np.dtype([(\"qint8\", np.int8, 1)])\n",
      "C:\\Users\\kin24\\AppData\\Local\\conda\\conda\\envs\\name_class\\lib\\site-packages\\tensorflow\\python\\framework\\dtypes.py:517: FutureWarning: Passing (type, 1) or '1type' as a synonym of type is deprecated; in a future version of numpy, it will be understood as (type, (1,)) / '(1,)type'.\n",
      "  _np_quint8 = np.dtype([(\"quint8\", np.uint8, 1)])\n",
      "C:\\Users\\kin24\\AppData\\Local\\conda\\conda\\envs\\name_class\\lib\\site-packages\\tensorflow\\python\\framework\\dtypes.py:518: FutureWarning: Passing (type, 1) or '1type' as a synonym of type is deprecated; in a future version of numpy, it will be understood as (type, (1,)) / '(1,)type'.\n",
      "  _np_qint16 = np.dtype([(\"qint16\", np.int16, 1)])\n",
      "C:\\Users\\kin24\\AppData\\Local\\conda\\conda\\envs\\name_class\\lib\\site-packages\\tensorflow\\python\\framework\\dtypes.py:519: FutureWarning: Passing (type, 1) or '1type' as a synonym of type is deprecated; in a future version of numpy, it will be understood as (type, (1,)) / '(1,)type'.\n",
      "  _np_quint16 = np.dtype([(\"quint16\", np.uint16, 1)])\n",
      "C:\\Users\\kin24\\AppData\\Local\\conda\\conda\\envs\\name_class\\lib\\site-packages\\tensorflow\\python\\framework\\dtypes.py:520: FutureWarning: Passing (type, 1) or '1type' as a synonym of type is deprecated; in a future version of numpy, it will be understood as (type, (1,)) / '(1,)type'.\n",
      "  _np_qint32 = np.dtype([(\"qint32\", np.int32, 1)])\n",
      "C:\\Users\\kin24\\AppData\\Local\\conda\\conda\\envs\\name_class\\lib\\site-packages\\tensorflow\\python\\framework\\dtypes.py:525: FutureWarning: Passing (type, 1) or '1type' as a synonym of type is deprecated; in a future version of numpy, it will be understood as (type, (1,)) / '(1,)type'.\n",
      "  np_resource = np.dtype([(\"resource\", np.ubyte, 1)])\n",
      "C:\\Users\\kin24\\AppData\\Local\\conda\\conda\\envs\\name_class\\lib\\site-packages\\tensorboard\\compat\\tensorflow_stub\\dtypes.py:541: FutureWarning: Passing (type, 1) or '1type' as a synonym of type is deprecated; in a future version of numpy, it will be understood as (type, (1,)) / '(1,)type'.\n",
      "  _np_qint8 = np.dtype([(\"qint8\", np.int8, 1)])\n",
      "C:\\Users\\kin24\\AppData\\Local\\conda\\conda\\envs\\name_class\\lib\\site-packages\\tensorboard\\compat\\tensorflow_stub\\dtypes.py:542: FutureWarning: Passing (type, 1) or '1type' as a synonym of type is deprecated; in a future version of numpy, it will be understood as (type, (1,)) / '(1,)type'.\n",
      "  _np_quint8 = np.dtype([(\"quint8\", np.uint8, 1)])\n",
      "C:\\Users\\kin24\\AppData\\Local\\conda\\conda\\envs\\name_class\\lib\\site-packages\\tensorboard\\compat\\tensorflow_stub\\dtypes.py:543: FutureWarning: Passing (type, 1) or '1type' as a synonym of type is deprecated; in a future version of numpy, it will be understood as (type, (1,)) / '(1,)type'.\n",
      "  _np_qint16 = np.dtype([(\"qint16\", np.int16, 1)])\n",
      "C:\\Users\\kin24\\AppData\\Local\\conda\\conda\\envs\\name_class\\lib\\site-packages\\tensorboard\\compat\\tensorflow_stub\\dtypes.py:544: FutureWarning: Passing (type, 1) or '1type' as a synonym of type is deprecated; in a future version of numpy, it will be understood as (type, (1,)) / '(1,)type'.\n",
      "  _np_quint16 = np.dtype([(\"quint16\", np.uint16, 1)])\n",
      "C:\\Users\\kin24\\AppData\\Local\\conda\\conda\\envs\\name_class\\lib\\site-packages\\tensorboard\\compat\\tensorflow_stub\\dtypes.py:545: FutureWarning: Passing (type, 1) or '1type' as a synonym of type is deprecated; in a future version of numpy, it will be understood as (type, (1,)) / '(1,)type'.\n",
      "  _np_qint32 = np.dtype([(\"qint32\", np.int32, 1)])\n",
      "C:\\Users\\kin24\\AppData\\Local\\conda\\conda\\envs\\name_class\\lib\\site-packages\\tensorboard\\compat\\tensorflow_stub\\dtypes.py:550: FutureWarning: Passing (type, 1) or '1type' as a synonym of type is deprecated; in a future version of numpy, it will be understood as (type, (1,)) / '(1,)type'.\n",
      "  np_resource = np.dtype([(\"resource\", np.ubyte, 1)])\n",
      "Using TensorFlow backend.\n"
     ]
    }
   ],
   "source": [
    "import pandas as pd\n",
    "import tensorflow as tf \n",
    "from sklearn import preprocessing\n",
    "from tensorflow.python.client import device_lib\n",
    "from keras.layers import Activation, Dense, Dropout, Input, Embedding, CuDNNLSTM, CuDNNGRU,  GlobalMaxPooling1D, GlobalAveragePooling1D,Reshape, Conv1D, MaxPooling1D\n",
    "import sklearn.model_selection\n",
    "from sklearn.model_selection  import train_test_split\n",
    "import keras\n",
    "import numpy as np \n",
    "import os\n",
    "import keras\n",
    "import pickle "
   ]
  },
  {
   "cell_type": "code",
   "execution_count": 2,
   "metadata": {},
   "outputs": [],
   "source": [
    "def re_balance(df, var):\n",
    "    scale_factor = df['class'].value_counts().to_dict()\n",
    "\n",
    "    min_v = np.max( list( scale_factor.values() ) )\n",
    "\n",
    "    for k in scale_factor:\n",
    "        scale_factor[k] = int( round( min_v/ scale_factor[k]) )\n",
    "\n",
    "\n",
    "    return(pd.concat([\n",
    "        pd.concat( [ df[df['class']==k] ] * scale_factor[k] ) for k in scale_factor\n",
    "    ]))"
   ]
  },
  {
   "cell_type": "code",
   "execution_count": 3,
   "metadata": {},
   "outputs": [
    {
     "name": "stdout",
     "output_type": "stream",
     "text": [
      "[name: \"/device:CPU:0\"\n",
      "device_type: \"CPU\"\n",
      "memory_limit: 268435456\n",
      "locality {\n",
      "}\n",
      "incarnation: 9310943868413481239\n",
      ", name: \"/device:GPU:0\"\n",
      "device_type: \"GPU\"\n",
      "memory_limit: 11116255642\n",
      "locality {\n",
      "  bus_id: 1\n",
      "  links {\n",
      "  }\n",
      "}\n",
      "incarnation: 11145140692909364944\n",
      "physical_device_desc: \"device: 0, name: NVIDIA TITAN Xp, pci bus id: 0000:01:00.0, compute capability: 6.1\"\n",
      "]\n"
     ]
    },
    {
     "data": {
      "text/html": [
       "<div>\n",
       "<style scoped>\n",
       "    .dataframe tbody tr th:only-of-type {\n",
       "        vertical-align: middle;\n",
       "    }\n",
       "\n",
       "    .dataframe tbody tr th {\n",
       "        vertical-align: top;\n",
       "    }\n",
       "\n",
       "    .dataframe thead th {\n",
       "        text-align: right;\n",
       "    }\n",
       "</style>\n",
       "<table border=\"1\" class=\"dataframe\">\n",
       "  <thead>\n",
       "    <tr style=\"text-align: right;\">\n",
       "      <th></th>\n",
       "      <th>name</th>\n",
       "      <th>class</th>\n",
       "    </tr>\n",
       "  </thead>\n",
       "  <tbody>\n",
       "    <tr>\n",
       "      <th>0</th>\n",
       "      <td>CHAN TSZ KIN</td>\n",
       "      <td>HK</td>\n",
       "    </tr>\n",
       "    <tr>\n",
       "      <th>1</th>\n",
       "      <td>CHEUNG KA SHING</td>\n",
       "      <td>HK</td>\n",
       "    </tr>\n",
       "    <tr>\n",
       "      <th>2</th>\n",
       "      <td>YIU CHUNG YIM</td>\n",
       "      <td>HK</td>\n",
       "    </tr>\n",
       "    <tr>\n",
       "      <th>3</th>\n",
       "      <td>LI SIJIE</td>\n",
       "      <td>ML</td>\n",
       "    </tr>\n",
       "  </tbody>\n",
       "</table>\n",
       "</div>"
      ],
      "text/plain": [
       "              name class\n",
       "0     CHAN TSZ KIN    HK\n",
       "1  CHEUNG KA SHING    HK\n",
       "2    YIU CHUNG YIM    HK\n",
       "3         LI SIJIE    ML"
      ]
     },
     "execution_count": 3,
     "metadata": {},
     "output_type": "execute_result"
    }
   ],
   "source": [
    "os.environ['CUDA_VISIBLE_DEVICES'] = \"0\"\n",
    "print(device_lib.list_local_devices())\n",
    "\n",
    "df = pd.read_parquet(\"./data/output/raw_names.parquet\")\n",
    "df = re_balance(df, 'class')\n",
    "\n",
    "example = pd.DataFrame(data = \n",
    "                        {\n",
    "                            'name' : ['CHAN TSZ KIN','CHEUNG KA SHING', 'YIU CHUNG YIM', 'LI SIJIE'], \n",
    "                            'class' : [\"HK\",\"HK\",\"HK\", \"ML\"]\n",
    "                        })\n",
    "example\n",
    "\n"
   ]
  },
  {
   "cell_type": "code",
   "execution_count": 4,
   "metadata": {},
   "outputs": [],
   "source": [
    "def get_tokenizer(x):\n",
    "    tokenizer = tf.keras.preprocessing.text.Tokenizer(char_level = True, )\n",
    "    tokenizer.fit_on_texts(x)\n",
    "    tensor = tokenizer.texts_to_sequences(x)\n",
    "    tensor = tf.keras.preprocessing.sequence.pad_sequences(tensor,padding='post')\n",
    "    return tensor, tokenizer\n",
    "\n",
    "x = df['name'].values\n",
    "y = df['class'].values\n",
    "\n",
    "tensor, tokenizer = get_tokenizer(x)\n",
    "\n",
    "with open('./model/tokenizer.pkl' , 'wb') as f:\n",
    "    pickle.dump(tokenizer, f)\n",
    "\n",
    "le = preprocessing.LabelBinarizer()\n",
    "le.fit(y)\n",
    "label = le.transform(y)\n",
    "\n",
    "with open('./model/le.pkl' , 'wb') as f:\n",
    "    pickle.dump(le, f)\n"
   ]
  },
  {
   "cell_type": "code",
   "execution_count": 5,
   "metadata": {},
   "outputs": [],
   "source": [
    "X_tmp, X_holdout, y_tmp, y_holdout = train_test_split(tensor, label, test_size=0.9)\n",
    "X_train, X_tmp2, y_train, y_tmp2 = train_test_split(X_tmp, y_tmp, test_size=0.1)\n",
    "X_val, X_test, y_val, y_test = train_test_split(X_tmp2, y_tmp2, test_size=0.5)"
   ]
  },
  {
   "cell_type": "code",
   "execution_count": null,
   "metadata": {},
   "outputs": [
    {
     "name": "stdout",
     "output_type": "stream",
     "text": [
      "WARNING:tensorflow:From C:\\Users\\kin24\\AppData\\Local\\conda\\conda\\envs\\name_class\\lib\\site-packages\\keras\\backend\\tensorflow_backend.py:68: The name tf.get_default_graph is deprecated. Please use tf.compat.v1.get_default_graph instead.\n",
      "\n",
      "WARNING:tensorflow:From C:\\Users\\kin24\\AppData\\Local\\conda\\conda\\envs\\name_class\\lib\\site-packages\\keras\\backend\\tensorflow_backend.py:508: The name tf.placeholder is deprecated. Please use tf.compat.v1.placeholder instead.\n",
      "\n",
      "WARNING:tensorflow:From C:\\Users\\kin24\\AppData\\Local\\conda\\conda\\envs\\name_class\\lib\\site-packages\\keras\\backend\\tensorflow_backend.py:3837: The name tf.random_uniform is deprecated. Please use tf.random.uniform instead.\n",
      "\n",
      "WARNING:tensorflow:From C:\\Users\\kin24\\AppData\\Local\\conda\\conda\\envs\\name_class\\lib\\site-packages\\keras\\backend\\tensorflow_backend.py:127: The name tf.placeholder_with_default is deprecated. Please use tf.compat.v1.placeholder_with_default instead.\n",
      "\n",
      "WARNING:tensorflow:From C:\\Users\\kin24\\AppData\\Local\\conda\\conda\\envs\\name_class\\lib\\site-packages\\keras\\backend\\tensorflow_backend.py:3144: calling dropout (from tensorflow.python.ops.nn_ops) with keep_prob is deprecated and will be removed in a future version.\n",
      "Instructions for updating:\n",
      "Please use `rate` instead of `keep_prob`. Rate should be set to `rate = 1 - keep_prob`.\n",
      "WARNING:tensorflow:From C:\\Users\\kin24\\AppData\\Local\\conda\\conda\\envs\\name_class\\lib\\site-packages\\keras\\optimizers.py:757: The name tf.train.Optimizer is deprecated. Please use tf.compat.v1.train.Optimizer instead.\n",
      "\n",
      "WARNING:tensorflow:From C:\\Users\\kin24\\AppData\\Local\\conda\\conda\\envs\\name_class\\lib\\site-packages\\keras\\backend\\tensorflow_backend.py:3014: The name tf.log is deprecated. Please use tf.math.log instead.\n",
      "\n",
      "WARNING:tensorflow:From C:\\Users\\kin24\\AppData\\Local\\conda\\conda\\envs\\name_class\\lib\\site-packages\\tensorflow\\python\\ops\\math_grad.py:1250: add_dispatch_support.<locals>.wrapper (from tensorflow.python.ops.array_ops) is deprecated and will be removed in a future version.\n",
      "Instructions for updating:\n",
      "Use tf.where in 2.0, which has the same broadcast rule as np.where\n",
      "Train on 112959 samples, validate on 6276 samples\n",
      "Epoch 1/10\n",
      "112959/112959 [==============================] - 26s 229us/step - loss: 0.6844 - acc: 0.6428 - val_loss: 0.4771 - val_acc: 0.7470\n",
      "Epoch 2/10\n",
      "112959/112959 [==============================] - 23s 203us/step - loss: 0.2277 - acc: 0.9044 - val_loss: 0.1087 - val_acc: 0.9630\n",
      "Epoch 3/10\n",
      "112959/112959 [==============================] - 22s 193us/step - loss: 0.0751 - acc: 0.9754 - val_loss: 0.0577 - val_acc: 0.9810\n",
      "Epoch 4/10\n",
      "112959/112959 [==============================] - 23s 200us/step - loss: 0.0483 - acc: 0.9837 - val_loss: 0.0397 - val_acc: 0.9898\n",
      "Epoch 5/10\n",
      "112959/112959 [==============================] - 22s 194us/step - loss: 0.0488 - acc: 0.9836 - val_loss: 0.0299 - val_acc: 0.9904\n",
      "Epoch 6/10\n",
      "112959/112959 [==============================] - 22s 194us/step - loss: 0.0367 - acc: 0.9871 - val_loss: 0.0198 - val_acc: 0.9931\n",
      "Epoch 7/10\n",
      "112959/112959 [==============================] - 22s 197us/step - loss: 0.0404 - acc: 0.9871 - val_loss: 0.0233 - val_acc: 0.9941\n",
      "Epoch 8/10\n",
      "112959/112959 [==============================] - 22s 194us/step - loss: 0.0342 - acc: 0.9890 - val_loss: 0.0211 - val_acc: 0.9927\n",
      "Epoch 9/10\n",
      " 78050/112959 [===================>..........] - ETA: 6s - loss: 0.0335 - acc: 0.9894"
     ]
    }
   ],
   "source": [
    "max_char = np.max(tensor) +1 \n",
    "\n",
    "input_x = Input(shape=(50,))\n",
    "GRU_x = Embedding(max_char,30,input_length=50)(input_x)\n",
    "GRU_x = CuDNNGRU(30, return_sequences=True)(GRU_x)\n",
    "GRU_x = CuDNNGRU(30, return_sequences=True)(GRU_x)\n",
    "GRU_x = CuDNNGRU(30, return_sequences=False)(GRU_x)\n",
    "GRU_x = Activation('tanh')(GRU_x)\n",
    "GRU_x = Dense(10, activation='sigmoid')(GRU_x)\n",
    "GRU_x = Dropout(0.2)(GRU_x)\n",
    "GRU_x = Dense(3, activation='sigmoid')(GRU_x)\n",
    "\n",
    "GRU_model = keras.models.Model(inputs=[input_x], outputs=[GRU_x] )\n",
    "\n",
    "GRU_model.compile(\n",
    "    loss='categorical_crossentropy', \n",
    "    optimizer=keras.optimizers.adam(0.005),\n",
    "    metrics=['accuracy'])\n",
    "\n",
    "GRU_model.fit(\n",
    "    X_train, \n",
    "    y_train, \n",
    "    batch_size=50, \n",
    "    epochs = 10,\n",
    "    validation_data=(X_val, y_val) , \n",
    "    shuffle=True, \n",
    "    verbose = 1)\n"
   ]
  },
  {
   "cell_type": "code",
   "execution_count": null,
   "metadata": {},
   "outputs": [],
   "source": [
    "GRU_model.evaluate(X_test, y_test, batch_size=5000)"
   ]
  },
  {
   "cell_type": "code",
   "execution_count": null,
   "metadata": {},
   "outputs": [],
   "source": [
    "GRU_model.evaluate(X_train, y_train, batch_size=5000)"
   ]
  },
  {
   "cell_type": "code",
   "execution_count": null,
   "metadata": {},
   "outputs": [],
   "source": [
    "GRU_model.evaluate(X_val, y_val, batch_size=5000)"
   ]
  },
  {
   "cell_type": "code",
   "execution_count": null,
   "metadata": {},
   "outputs": [],
   "source": [
    "GRU_model.save(\"./model/m1.h5\")"
   ]
  },
  {
   "cell_type": "code",
   "execution_count": null,
   "metadata": {},
   "outputs": [],
   "source": [
    "import numpy as np\n",
    "def proc_x(x, tokenizer):\n",
    "    tensor = tokenizer.texts_to_sequences(x)\n",
    "    tensor = tf.keras.preprocessing.sequence.pad_sequences(tensor,padding='post',maxlen=50)\n",
    "    return tensor\n",
    "\n",
    "\n",
    "def predict_name(name, model, tokenizer,le, max_len=50):\n",
    "    fit = le.classes_[np.argmax(GRU_model.predict( proc_x(name, tokenizer) ), axis=1)]\n",
    "    return pd.DataFrame({'name':name, 'prediction':fit})\n"
   ]
  },
  {
   "cell_type": "code",
   "execution_count": null,
   "metadata": {},
   "outputs": [],
   "source": [
    "predict_name([\"SIN WAI KEUNG\",\"LAU KAM LUNG\"], GRU_model, tokenizer, le, max_len=50)"
   ]
  },
  {
   "cell_type": "code",
   "execution_count": null,
   "metadata": {},
   "outputs": [],
   "source": [
    "predict_name([\"CHEN MEI\", \"MAO YULIN\",\"ZHANG QING\", \"ZHANG JIE\"], GRU_model, tokenizer, le, max_len=50)"
   ]
  },
  {
   "cell_type": "code",
   "execution_count": null,
   "metadata": {},
   "outputs": [],
   "source": [
    "predict_name([\"abc LTD\"], GRU_model, tokenizer, le, max_len=50)"
   ]
  }
 ],
 "metadata": {
  "kernelspec": {
   "display_name": "Python 3",
   "language": "python",
   "name": "python3"
  },
  "language_info": {
   "codemirror_mode": {
    "name": "ipython",
    "version": 3
   },
   "file_extension": ".py",
   "mimetype": "text/x-python",
   "name": "python",
   "nbconvert_exporter": "python",
   "pygments_lexer": "ipython3",
   "version": "3.6.10"
  }
 },
 "nbformat": 4,
 "nbformat_minor": 4
}
