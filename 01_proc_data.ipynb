{
 "cells": [
  {
   "cell_type": "code",
   "execution_count": 1,
   "metadata": {},
   "outputs": [],
   "source": [
    "import pandas as pd\n",
    "pd.set_option('display.max_columns', None)  \n",
    "\n",
    "sheet_names = [\"ML buyer seller\", \"HK buyer seller\", \"CO buyer seller\", \"URA buyer seller\",\"OS buyer seller\"]\n",
    "df = pd.read_excel(\"./data/input/full records of each type of buyers and sellers no new lines.xlsx\", sheet_name=sheet_names)"
   ]
  },
  {
   "cell_type": "code",
   "execution_count": 2,
   "metadata": {},
   "outputs": [],
   "source": [
    "dict_df = dict()\n",
    "\n",
    "dict_df['ML'] = pd.concat([\n",
    "    df['ML buyer seller'][['ASSIG', 'ML_BUYER_LIST1']].rename(columns = {\"ASSIG\":\"name\",'ML_BUYER_LIST1':\"ML\"}),\n",
    "    df['ML buyer seller'][['ASSGO', 'ML_SELLER_LIST1']].rename(columns = {\"ASSGO\":\"name\",'ML_SELLER_LIST1':\"ML\"})\n",
    "])\n",
    "\n",
    "dict_df['HK'] = pd.concat([\n",
    "    df['HK buyer seller'][['ASSIG', 'HK_BUYER_LIST1']].rename(columns = {\"ASSIG\":\"name\",'HK_BUYER_LIST1':\"HK\"}),\n",
    "    df['HK buyer seller'][['ASSGO', 'HK_SELLER_LIST1']].rename(columns = {\"ASSGO\":\"name\",'HK_SELLER_LIST1':\"HK\"})\n",
    "])\n",
    "\n",
    "dict_df['CO'] = pd.concat([\n",
    "    df['CO buyer seller'][['ASSIG', 'COMPANY_BUYER']].rename(columns = {\"ASSIG\":\"name\",'COMPANY_BUYER':\"CO\"}),\n",
    "    df['CO buyer seller'][['ASSGO', 'COMPANY_SELLER']].rename(columns = {\"ASSGO\":\"name\",'COMPANY_SELLER':\"CO\"})\n",
    "])\n",
    "\n",
    "def extract_df(df, type):\n",
    "    out = df[df[type]==1] \n",
    "    out = out[['name']]\n",
    "    out['class'] = type\n",
    "    return out\n",
    "\n",
    "raw_names = pd.concat([\n",
    "    extract_df(dict_df[x], x) for x in ['HK','ML','CO']\n",
    "])\n",
    "\n"
   ]
  },
  {
   "cell_type": "markdown",
   "metadata": {},
   "source": [
    "## Data cleaning"
   ]
  },
  {
   "cell_type": "code",
   "execution_count": 3,
   "metadata": {},
   "outputs": [
    {
     "name": "stderr",
     "output_type": "stream",
     "text": [
      "C:\\Users\\kin24\\AppData\\Local\\conda\\conda\\envs\\name_class\\lib\\site-packages\\pandas\\core\\indexing.py:845: SettingWithCopyWarning: \n",
      "A value is trying to be set on a copy of a slice from a DataFrame.\n",
      "Try using .loc[row_indexer,col_indexer] = value instead\n",
      "\n",
      "See the caveats in the documentation: https://pandas.pydata.org/pandas-docs/stable/user_guide/indexing.html#returning-a-view-versus-a-copy\n",
      "  self.obj[key] = _infer_fill_value(value)\n",
      "C:\\Users\\kin24\\AppData\\Local\\conda\\conda\\envs\\name_class\\lib\\site-packages\\pandas\\core\\indexing.py:966: SettingWithCopyWarning: \n",
      "A value is trying to be set on a copy of a slice from a DataFrame.\n",
      "Try using .loc[row_indexer,col_indexer] = value instead\n",
      "\n",
      "See the caveats in the documentation: https://pandas.pydata.org/pandas-docs/stable/user_guide/indexing.html#returning-a-view-versus-a-copy\n",
      "  self.obj[item] = s\n"
     ]
    }
   ],
   "source": [
    "step1 = raw_names.drop_duplicates()\n",
    "step1.loc[:,'orig_name'] = step1['name'].str.upper()\n",
    "step1 = step1[['orig_name','name','class']]\n",
    "\n",
    "## Remove (TC) or (JT) in names\n",
    "\n",
    "step1.name.str.extract('.*\\((.*)\\).*')[0].value_counts().to_csv(\"preview/step1_in.csv\")\n",
    "\n",
    "step1.name = step1.name.str.replace(r'(TC)','',regex=False)\n",
    "step1.name = step1.name.str.replace(r'(JT)','',regex=False)\n",
    "step1[step1.name.str.contains(r'\\(')]\n",
    "step1.name.str.extract('.*\\((.*)\\).*')[0].value_counts()\n",
    "\n",
    "step1.name.str.extract('.*\\((.*)\\).*')[0].value_counts().to_csv(\"preview/step1_out.csv\")\n"
   ]
  },
  {
   "cell_type": "code",
   "execution_count": 4,
   "metadata": {},
   "outputs": [],
   "source": [
    "## Remove the shares of the house \n",
    "\n",
    "# with numbers\n",
    "step1.name[ step1.name.str.contains(r'[0-9]{1,}')  ].to_csv(\"preview/step2_in1.csv\")\n",
    "\n",
    "## replace format xx/xx with \"\"\n",
    "step1.name[ step1.name.str.contains(r'[0-9]{1,}/[0-9]{1,}') ].to_csv(\"preview/step2_in2.csv\")\n",
    "\n",
    "## number without /\n",
    "step1.name[ step1.name.str.contains(r'[0-9]{1,}') &  ~step1.name.str.contains(r'/{1,}') ].to_csv(\"preview/step2_in3.csv\")\n",
    "\n",
    "## replace % with \"\"\n",
    "step1.name[ step1.name.str.contains(r'%') ].to_csv(\"preview/step2_in4.csv\")\n",
    "\n",
    "## replace - with \" \"\n",
    "step1.name[ step1.name.str.contains(r'-') ].to_csv(\"preview/step2_in5.csv\")"
   ]
  },
  {
   "cell_type": "code",
   "execution_count": 5,
   "metadata": {},
   "outputs": [],
   "source": [
    "step2 = step1\n",
    "\n",
    "step2.name = step2.name.str.replace(r'[0-9]{1,}/[0-9]{1,}','',regex=True)\n",
    "step2.name = step2.name.str.replace(r'[0-9]{1,}/','',regex=True)\n",
    "step2.name = step2.name.str.replace(r'/[0-9]{1,}','',regex=True)\n",
    "\n",
    "step2.name = step2.name.str.replace(r'[0-9]{1,}%','',regex=True)\n",
    "step2.name = step2.name.str.replace(r'[0-9]{1,}\\.[0-9]{1,}%','',regex=True)\n",
    "\n",
    "step2.name = step2.name.str.replace(r'-',' ',regex=False)\n"
   ]
  },
  {
   "cell_type": "code",
   "execution_count": 6,
   "metadata": {},
   "outputs": [],
   "source": [
    "## Remove the shares of the house \n",
    "\n",
    "# with numbers\n",
    "step2.name[ step2.name.str.contains(r'[0-9]{1,}')  ].to_csv(\"preview/step2_out1.csv\")\n",
    "\n",
    "## replace format xx/xx with \"\"\n",
    "step2.name[ step2.name.str.contains(r'[0-9]{1,}/[0-9]{1,}') ].to_csv(\"preview/step2_out2.csv\")\n",
    "\n",
    "## number without /\n",
    "step2.name[ step2.name.str.contains(r'[0-9]{1,}') &  ~step2.name.str.contains(r'/{1,}') ].to_csv(\"preview/step2_out3.csv\")\n",
    "\n",
    "## replace % with \"\"\n",
    "step2.name[ step2.name.str.contains(r'%') ].to_csv(\"preview/step2_out4.csv\")\n",
    "\n",
    "## replace - with \" \"\n",
    "step2.name[ step2.name.str.contains(r'-') ].to_csv(\"preview/step2_out5.csv\")"
   ]
  },
  {
   "cell_type": "code",
   "execution_count": 7,
   "metadata": {},
   "outputs": [],
   "source": [
    "## Replace the remaining numbers with \" \"\n",
    "step3 = step2 \n",
    "\n",
    "step3.name[ step3.name.str.contains(r'[0-9]{1,}')  ].to_csv(\"preview/step3_in1.csv\")\n",
    "\n",
    "step3.name = step3.name.str.replace(r'[0-9]{1,}',' ',regex=True)\n",
    "step3.name = step3.name.str.replace(r' {1,}',' ',regex=True)\n",
    "\n",
    "\n",
    "step3.name[ step3.name.str.contains(r'[0-9]{1,}')  ].to_csv(\"preview/step3_out1.csv\")\n"
   ]
  },
  {
   "cell_type": "code",
   "execution_count": 8,
   "metadata": {},
   "outputs": [],
   "source": [
    "step3.name[ step3.name.str.contains(r'[^A-Z\\s]{1,}')  ].to_csv(\"preview/step4_in1.csv\")\n"
   ]
  },
  {
   "cell_type": "markdown",
   "metadata": {},
   "source": [
    "## Check for duplication"
   ]
  },
  {
   "cell_type": "code",
   "execution_count": 9,
   "metadata": {},
   "outputs": [],
   "source": [
    "tmp = step3\n",
    "tmp['count'] = tmp.groupby('orig_name')['orig_name'].transform('count')\n",
    "tmp[tmp['count']>1].to_csv('preview/duplicates.csv')"
   ]
  },
  {
   "cell_type": "code",
   "execution_count": 10,
   "metadata": {},
   "outputs": [],
   "source": [
    "## Most of the duplication are caused by company. We will replace all the values with CO"
   ]
  },
  {
   "cell_type": "code",
   "execution_count": 11,
   "metadata": {},
   "outputs": [],
   "source": [
    "step4 = step3\n",
    "step4['count'] = step4.groupby('orig_name')['orig_name'].transform('count')\n",
    "\n",
    "step4.loc[step4['count']>1,'class'] = 'ML'\n",
    "step4 = step4.drop_duplicates()"
   ]
  },
  {
   "cell_type": "code",
   "execution_count": 12,
   "metadata": {},
   "outputs": [],
   "source": [
    "step4.to_parquet('./data/output/raw_names.parquet', compression = None)"
   ]
  }
 ],
 "metadata": {
  "kernelspec": {
   "display_name": "Python 3",
   "language": "python",
   "name": "python3"
  },
  "language_info": {
   "codemirror_mode": {
    "name": "ipython",
    "version": 3
   },
   "file_extension": ".py",
   "mimetype": "text/x-python",
   "name": "python",
   "nbconvert_exporter": "python",
   "pygments_lexer": "ipython3",
   "version": "3.6.10"
  }
 },
 "nbformat": 4,
 "nbformat_minor": 4
}
